{
 "cells": [
  {
   "cell_type": "code",
   "execution_count": 28,
   "id": "efa16fc9-e2ff-4e05-bcc2-76d7bc8c03cd",
   "metadata": {
    "ExecutionIndicator": {
     "show": false
    },
    "execution": {
     "iopub.execute_input": "2023-10-30T07:32:39.060758Z",
     "iopub.status.busy": "2023-10-30T07:32:39.060396Z",
     "iopub.status.idle": "2023-10-30T07:32:39.274439Z",
     "shell.execute_reply": "2023-10-30T07:32:39.273812Z",
     "shell.execute_reply.started": "2023-10-30T07:32:39.060737Z"
    },
    "tags": []
   },
   "outputs": [
    {
     "name": "stdout",
     "output_type": "stream",
     "text": [
      "已初始化空的 Git 仓库于 /mnt/workspace/.git/\n"
     ]
    }
   ],
   "source": [
    "!cp ./"
   ]
  },
  {
   "cell_type": "code",
   "execution_count": 4,
   "id": "e2e7f246-aae8-4c4e-94f5-e34d5da4c69d",
   "metadata": {
    "execution": {
     "iopub.execute_input": "2023-10-30T06:46:41.763189Z",
     "iopub.status.busy": "2023-10-30T06:46:41.762833Z",
     "iopub.status.idle": "2023-10-30T06:46:42.673250Z",
     "shell.execute_reply": "2023-10-30T06:46:42.672714Z",
     "shell.execute_reply.started": "2023-10-30T06:46:41.763166Z"
    }
   },
   "outputs": [],
   "source": [
    "import numpy as np\n",
    "from sklearn.model_selection import train_test_split\n",
    "import time\n",
    "from pydl85 import DL85Predictor"
   ]
  },
  {
   "cell_type": "code",
   "execution_count": 10,
   "id": "c641971b-2fe1-4db1-b114-bf930ccf223c",
   "metadata": {
    "execution": {
     "iopub.execute_input": "2023-10-30T07:05:24.780491Z",
     "iopub.status.busy": "2023-10-30T07:05:24.780099Z",
     "iopub.status.idle": "2023-10-30T07:05:24.814563Z",
     "shell.execute_reply": "2023-10-30T07:05:24.814028Z",
     "shell.execute_reply.started": "2023-10-30T07:05:24.780469Z"
    }
   },
   "outputs": [],
   "source": [
    "dataset = np.genfromtxt(\"./pydl8.5/datasets/anneal.txt\", delimiter=' ')\n",
    "X, y = dataset[:, 1:], dataset[:, 0]"
   ]
  },
  {
   "cell_type": "code",
   "execution_count": 13,
   "id": "4514c59d-a434-42c0-87e6-cdeb9cac364c",
   "metadata": {
    "ExecutionIndicator": {
     "show": true
    },
    "execution": {
     "iopub.execute_input": "2023-10-30T07:10:11.338414Z",
     "iopub.status.busy": "2023-10-30T07:10:11.338047Z",
     "iopub.status.idle": "2023-10-30T07:10:11.342200Z",
     "shell.execute_reply": "2023-10-30T07:10:11.341495Z",
     "shell.execute_reply.started": "2023-10-30T07:10:11.338391Z"
    },
    "tags": []
   },
   "outputs": [],
   "source": [
    "total_acc = []\n",
    "total_time = []\n",
    "# return the error and the majority class\n",
    "def error(tids):\n",
    "    classes, supports = np.unique(y_train.take(list(tids)), return_counts=True)\n",
    "    maxindex = np.argmax(supports)\n",
    "    return sum(supports) - supports[maxindex], classes[maxindex]"
   ]
  },
  {
   "cell_type": "code",
   "execution_count": null,
   "id": "e4f2a67a-b0a7-4edb-8163-fd7b084a7434",
   "metadata": {
    "ExecutionIndicator": {
     "show": true
    },
    "tags": []
   },
   "outputs": [],
   "source": [
    "for i in range(100):\n",
    "\n",
    "    X_train, X_test, y_train, y_test = train_test_split(X, y, test_size=0.2, random_state=i)\n",
    "\n",
    "    print(\"#####################################################################################\\n\"\n",
    "          \"#      DL8.5 Predictor used for classification : user specific error function       #\\n\"\n",
    "          \"#####################################################################################\")\n",
    "    clf = DL85Predictor(max_depth=2, error_function=error, time_limit=600)\n",
    "    start = time.perf_counter()\n",
    "    print(\"Model building...\")\n",
    "    clf.fit(X_train)\n",
    "    duration = time.perf_counter() - start\n",
    "    total_acc.append(round(clf.accuracy_, 4))\n",
    "    time_total.append(round(duration, 4))\n",
    "    print(\"Model built. Duration of building =\", round(duration, 4))\n",
    "    print(\"Accuracy DL8.5 on training set =\", round(clf.accuracy_, 4))"
   ]
  },
  {
   "cell_type": "markdown",
   "id": "0115e0d5-ceee-4b47-abef-5337b42e1af2",
   "metadata": {},
   "source": [
    "- 单样本t分布检验：需要检验样本是否满足正太分布和独立性等\n",
    "    - 大数定律告诉我们当数据量达到一定程度时，都满足正态分布\n",
    "    - 样本肯定相互独立"
   ]
  },
  {
   "cell_type": "code",
   "execution_count": 15,
   "id": "86d9448e-fce1-4056-9446-e48999584f50",
   "metadata": {
    "execution": {
     "iopub.execute_input": "2023-10-30T07:14:56.523295Z",
     "iopub.status.busy": "2023-10-30T07:14:56.522820Z",
     "iopub.status.idle": "2023-10-30T07:14:56.526250Z",
     "shell.execute_reply": "2023-10-30T07:14:56.525545Z",
     "shell.execute_reply.started": "2023-10-30T07:14:56.523275Z"
    }
   },
   "outputs": [],
   "source": [
    "from scipy import stats"
   ]
  },
  {
   "cell_type": "code",
   "execution_count": 26,
   "id": "716e0ea1-b043-46e4-818e-100a4b0021f3",
   "metadata": {
    "ExecutionIndicator": {
     "show": true
    },
    "execution": {
     "iopub.execute_input": "2023-10-30T07:28:14.638112Z",
     "iopub.status.busy": "2023-10-30T07:28:14.637763Z",
     "iopub.status.idle": "2023-10-30T07:28:14.641710Z",
     "shell.execute_reply": "2023-10-30T07:28:14.640962Z",
     "shell.execute_reply.started": "2023-10-30T07:28:14.638092Z"
    },
    "tags": []
   },
   "outputs": [],
   "source": [
    "def tTest(total):\n",
    "    total_mean = round(sum(total) / len(total), 4)\n",
    "    # total_mean = 0\n",
    "    t_statistic, p_value = stats.ttest_1samp(total, total_mean)\n",
    "    return t_statistic, p_value"
   ]
  },
  {
   "cell_type": "code",
   "execution_count": 27,
   "id": "40394f72-7361-478c-8390-5b3a53e2912c",
   "metadata": {
    "execution": {
     "iopub.execute_input": "2023-10-30T07:28:15.100211Z",
     "iopub.status.busy": "2023-10-30T07:28:15.099806Z",
     "iopub.status.idle": "2023-10-30T07:28:15.104580Z",
     "shell.execute_reply": "2023-10-30T07:28:15.103917Z",
     "shell.execute_reply.started": "2023-10-30T07:28:15.100183Z"
    },
    "tags": []
   },
   "outputs": [
    {
     "name": "stdout",
     "output_type": "stream",
     "text": [
      "T统计量： -0.048257784055405886\n",
      "P值： 0.9616080198248886\n"
     ]
    }
   ],
   "source": [
    "acc_statistic, acc_value = tTest(total=total_acc)\n",
    "print(\"T统计量：\", acc_statistic)\n",
    "print(\"P值：\", acc_value)"
   ]
  },
  {
   "cell_type": "code",
   "execution_count": null,
   "id": "50a65ebf-d50e-4f05-a967-816df12eec98",
   "metadata": {},
   "outputs": [],
   "source": []
  }
 ],
 "metadata": {
  "kernelspec": {
   "display_name": "Python 3 (ipykernel)",
   "language": "python",
   "name": "python3"
  },
  "language_info": {
   "codemirror_mode": {
    "name": "ipython",
    "version": 3
   },
   "file_extension": ".py",
   "mimetype": "text/x-python",
   "name": "python",
   "nbconvert_exporter": "python",
   "pygments_lexer": "ipython3",
   "version": "3.8.16"
  }
 },
 "nbformat": 4,
 "nbformat_minor": 5
}
